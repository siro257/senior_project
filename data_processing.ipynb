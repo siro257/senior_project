{
 "cells": [
  {
   "cell_type": "code",
   "execution_count": null,
   "metadata": {},
   "outputs": [],
   "source": [
    "# from urllib.request import urlopen\n",
    "\n",
    "# r = urlopen('https://case.edu/projects/erpextract/soc.xml')\n",
    "# mytree = ET.parse(r)"
   ]
  },
  {
   "cell_type": "code",
   "execution_count": null,
   "metadata": {},
   "outputs": [],
   "source": [
    "import xml.etree.ElementTree as ET\n",
    "import pandas as pd\n",
    "import numpy as np\n",
    "\n",
    "xtree = ET.parse('soc.xml')\n",
    "xroot = xtree.getroot()\n",
    "print(xroot)"
   ]
  },
  {
   "cell_type": "code",
   "execution_count": null,
   "metadata": {},
   "outputs": [],
   "source": [
    "croot = xroot.find('Terms/Term/Classes')\n",
    "\n",
    "cchild = list(croot)\n",
    "\n",
    "cols = []\n",
    "for child in cchild[0]:\n",
    "#     print(child.tag)\n",
    "    cols.append(child.tag)"
   ]
  },
  {
   "cell_type": "code",
   "execution_count": null,
   "metadata": {},
   "outputs": [],
   "source": [
    "target_cols = ['Subject', 'CatalogNbr', 'CourseTitleLong', 'Components/Component/Component', 'Dates', 'UnitsRange',\n",
    "               'Meetings/Meeting/DaysTimes', 'Meetings/Meeting/Room', 'Meetings/Meeting/Instructor',\n",
    "              'EnrollmentCapacity', 'EnrollmentTotal', 'AvailableSeats']"
   ]
  },
  {
   "cell_type": "code",
   "execution_count": null,
   "metadata": {},
   "outputs": [],
   "source": [
    "course_list = []\n",
    "for child in cchild:\n",
    "    course_detail = []\n",
    "    for col in target_cols:\n",
    "        if child.find(col) != None:\n",
    "            course_detail.append(child.find(col).text)\n",
    "        else:\n",
    "            course_detail.append(np.nan)\n",
    "    course_list.append(course_detail)"
   ]
  },
  {
   "cell_type": "code",
   "execution_count": null,
   "metadata": {},
   "outputs": [],
   "source": [
    "cols = ['Subject', 'CatalogNumber', 'CourseTitle', 'CourseType','Dates', 'Credit', 'MeetingTime', 'Room', 'Instructor', 'TotalSeats', 'SeatsTaken', 'AvailableSeats']\n",
    "df = pd.DataFrame(data=course_list, columns=cols)"
   ]
  },
  {
   "cell_type": "code",
   "execution_count": null,
   "metadata": {},
   "outputs": [],
   "source": [
    "df.loc[ ((df['Subject'] == 'CSDS') & ( df['Instructor'] == 'Shuai Xu') ) ]"
   ]
  },
  {
   "cell_type": "code",
   "execution_count": null,
   "metadata": {},
   "outputs": [],
   "source": [
    "cchild[0].find('Components/Component/Component').text"
   ]
  },
  {
   "cell_type": "code",
   "execution_count": null,
   "metadata": {},
   "outputs": [],
   "source": [
    "df.to_csv('courses.csv', index=False)"
   ]
  },
  {
   "cell_type": "code",
   "execution_count": null,
   "metadata": {},
   "outputs": [],
   "source": [
    "df.shape\n",
    "df.sort_values(by=['CourseType'])"
   ]
  },
  {
   "cell_type": "code",
   "execution_count": null,
   "metadata": {},
   "outputs": [],
   "source": [
    "#first five rows of the dataframe\n",
    "df.head()"
   ]
  },
  {
   "cell_type": "code",
   "execution_count": null,
   "metadata": {},
   "outputs": [],
   "source": [
    "#provide the information of each column of the dataframe\n",
    "df.info()"
   ]
  },
  {
   "cell_type": "code",
   "execution_count": null,
   "metadata": {},
   "outputs": [],
   "source": [
    "#describe the statistics of each column of the dataframe\n",
    "df.describe()"
   ]
  },
  {
   "cell_type": "code",
   "execution_count": null,
   "metadata": {},
   "outputs": [],
   "source": [
    "df.loc[((df['MeetingTime']=='MWF 11:40 AM - 12:30 PM') & (df['Subject']=='CSDS'))]"
   ]
  },
  {
   "cell_type": "code",
   "execution_count": null,
   "metadata": {},
   "outputs": [],
   "source": [
    "#functions necessary for the Scheduling Algorithm\n",
    "\n",
    "current_schedule = pd.DataFrame()\n",
    "current_schedule = pd.DataFrame( columns=cols)\n",
    "\n",
    "current_schedule.loc[df.index[1505]] = df.iloc[1505]\n",
    "current_schedule.loc[df.index[1523]] = df.iloc[1523]\n",
    "current_schedule.loc[df.index[1479]] = df.iloc[1479]\n",
    "\n",
    "display(current_schedule)"
   ]
  },
  {
   "cell_type": "code",
   "execution_count": null,
   "metadata": {},
   "outputs": [],
   "source": [
    "#has_conflict(): returns whether or not there are scheudle conflicts\n",
    "import re\n",
    "\n",
    "def has_conflict(schedule):\n",
    "    is_conflict = false;\n",
    "    n = schedule.shape[0];\n",
    "    r1=1;r2=r1+1\n",
    "    for _ in range(n*(n+1)/2):\n",
    "        cs1 = schedule.iloc[r1,6]; cs2 = schedule.iloc[r2,6]\n",
    "        #case 1: meeting time is exactly the same\n",
    "        if cs1 == cs2:\n",
    "            is_conflict = true;\n",
    "            break\n",
    "        #case 2: meeting time is not exactly the same but time conflict occurs\n",
    "        elif cs1[0:4] == cs2[0:4]:\n",
    "            digits1 = re.findall(r'\\d+', cs1); digits2 = re.findall(r'\\d+', cs2);\n",
    "            if \n",
    "            \n",
    "        \n",
    "            "
   ]
  },
  {
   "cell_type": "code",
   "execution_count": null,
   "metadata": {},
   "outputs": [],
   "source": [
    "#is_available() returns yes or no if the class is available to register\n",
    "def is_available(schedule, new_class):\n",
    "    available = true;\n",
    "    for _ in range(schedule.shape[0]):\n",
    "        if new_class.iloc[1,-1] <= 0:\n",
    "            available = false\n",
    "            break\n",
    "    return available"
   ]
  },
  {
   "cell_type": "code",
   "execution_count": null,
   "metadata": {},
   "outputs": [],
   "source": [
    "#time_difference() returns the end time of one class - starting time of another in the same day\n",
    "def time_difference(class1, class2):\n",
    "    meeting_time1 = class1.iloc[1,6]; meeting_time2 = class2.iloc[1,6];\n",
    "    digits1 = re.findall(r'\\d+', meeting_time1); digits2 = re.findall(r'\\d+', meeting_time2);\n",
    "    "
   ]
  }
 ],
 "metadata": {
  "kernelspec": {
   "display_name": "Python 3",
   "language": "python",
   "name": "python3"
  },
  "language_info": {
   "codemirror_mode": {
    "name": "ipython",
    "version": 3
   },
   "file_extension": ".py",
   "mimetype": "text/x-python",
   "name": "python",
   "nbconvert_exporter": "python",
   "pygments_lexer": "ipython3",
   "version": "3.6.8"
  }
 },
 "nbformat": 4,
 "nbformat_minor": 4
}
